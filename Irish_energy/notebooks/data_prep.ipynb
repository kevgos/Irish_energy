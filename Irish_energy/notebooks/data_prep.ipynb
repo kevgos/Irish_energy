{
 "cells": [
  {
   "cell_type": "markdown",
   "id": "52da92eb",
   "metadata": {},
   "source": [
    " <h1 style=\"text-align:center\"> Irish energy data preparation  </h1>\n",
    " \n",
    "## Outline\n",
    "\n",
    "In this notebook I take data available from the Sustainable Energy Authority of Ireland (SEAI) including primary energy from 1990 to 2022 and final energy from 1990 to 2022. \n",
    "\n",
    "I merge the data to be able to compare the two over the time series.\n",
    "\n",
    "## Data sources\n",
    "\n",
    "Primary energy and final consumption (ktoe) 1990 - 2022 data was obtained from the SEAI energy portal:\n",
    "\n",
    "https://www.seai.ie/data-and-insights/seai-statistics/energy-data/\n",
    "\n",
    "Primary Energy Production (ktoe) with fuel type 1990 - 2022 was obtained from the central statistics office portal:\n",
    "\n",
    "https://data.cso.ie"
   ]
  },
  {
   "cell_type": "markdown",
   "id": "951b8b06",
   "metadata": {},
   "source": [
    "## Merging final energy and final consumption dataframes\n",
    "\n",
    "In order to look at trends in primary energy over time and compare this with final consumption the two dataframes were merged using 'Year' and fuel type."
   ]
  },
  {
   "cell_type": "code",
   "execution_count": 1,
   "id": "15d94884",
   "metadata": {},
   "outputs": [],
   "source": [
    "# import python libraries\n",
    "\n",
    "import pandas as pd # pandas for panel data\n",
    "import plotly.express as px # plotly for interactive plots\n",
    "import numpy as np\n",
    "import matplotlib.pyplot as plt"
   ]
  },
  {
   "cell_type": "code",
   "execution_count": 5,
   "id": "27f3f295",
   "metadata": {},
   "outputs": [],
   "source": [
    "# load the data\n",
    "\n",
    "df_primary_energy = pd.read_csv(\"../data/Historic_ktoe_by_Fuel.csv\")\n",
    "df_final_energy = pd.read_csv(\"../data/Historic_ktoe_by_Fuel_consumption.csv\")\n",
    "\n",
    "# total consumption data has fuel groups broken up in to smaller groups e.g type coal. \n",
    "# Want to collapse this so can merge with primary energy\n",
    "\n",
    "df_final_energy = df_final_energy.groupby(\n",
    "    [\"Year\", \"Fuel Group Hierarchy - Fuel Group\"])[\"Final Consumption\"].sum().reset_index()\n",
    "\n",
    "# merge primary and final energy dataframes using 'Year' and 'Fuel Group' columns\n",
    "total_energy = pd.merge(df_primary_energy, df_final_energy, on=['Year','Fuel Group Hierarchy - Fuel Group'])\n",
    "\n",
    "# rename Fuel Group for abbreviated header\n",
    "total_energy.rename(columns={'Fuel Group Hierarchy - Fuel Group': 'Fuel Group'}, inplace=True)\n"
   ]
  },
  {
   "cell_type": "code",
   "execution_count": 4,
   "id": "add0c0fe",
   "metadata": {},
   "outputs": [],
   "source": [
    "# write this df to the data folder\n",
    "\n",
    "total_energy.to_csv(\"../data/Irish_energy_summary1990_2022.csv\", sep = \",\", header=True, index=False)"
   ]
  },
  {
   "cell_type": "markdown",
   "id": "46570745",
   "metadata": {},
   "source": [
    "## Filtering primary energy source by renewables with subgroups of renewables"
   ]
  },
  {
   "cell_type": "code",
   "execution_count": 47,
   "id": "116fce35",
   "metadata": {},
   "outputs": [],
   "source": [
    "# load the data\n",
    "\n",
    "df_renewables = pd.read_csv(\"../data/irish_energy_renewables1990_2022.csv\")"
   ]
  },
  {
   "cell_type": "code",
   "execution_count": 48,
   "id": "a6a4a10e",
   "metadata": {},
   "outputs": [
    {
     "name": "stderr",
     "output_type": "stream",
     "text": [
      "/var/folders/7f/dffk3cfs1gzfgm16g6wd2_2w0000gn/T/ipykernel_3037/3173708438.py:8: SettingWithCopyWarning:\n",
      "\n",
      "\n",
      "A value is trying to be set on a copy of a slice from a DataFrame.\n",
      "Try using .loc[row_indexer,col_indexer] = value instead\n",
      "\n",
      "See the caveats in the documentation: https://pandas.pydata.org/pandas-docs/stable/user_guide/indexing.html#returning-a-view-versus-a-copy\n",
      "\n"
     ]
    }
   ],
   "source": [
    "# do not need the statistic label for plotting\n",
    "df_renewables.drop(columns=\"Statistic Label\", inplace=True)\n",
    "\n",
    "# only keep renewable energy here\n",
    "columns_keep = ['Hydro', 'Wind', 'Biomass', 'Landfill gas', 'Biogas', 'Liquid Biofuel', 'Solar', 'Geothermal']\n",
    "\n",
    "df_renewables_filtered = df_renewables[df_renewables[\"Fuel Type\"].isin(columns_keep)]\n",
    "\n",
    "# change VALUE to integer, will coerce \"-\" in to null value\n",
    "df_renewables_filtered['VALUE'] = pd.to_numeric(df_renewables_filtered['VALUE'], errors='coerce').astype('Int64')"
   ]
  },
  {
   "cell_type": "code",
   "execution_count": 51,
   "id": "8b2492e1",
   "metadata": {},
   "outputs": [],
   "source": [
    "# write this df to the data folder\n",
    "\n",
    "df_renewables_filtered.to_csv(\"../data/Irish_renewable_energy_summary1990_2022.csv\", sep = \",\", header=True, index=False)"
   ]
  },
  {
   "cell_type": "markdown",
   "id": "773ea546",
   "metadata": {},
   "source": [
    "# Electricity generated by fuel type "
   ]
  },
  {
   "cell_type": "code",
   "execution_count": 33,
   "id": "9f2fe331",
   "metadata": {},
   "outputs": [],
   "source": [
    "# load the df, values are in ktoe\n",
    "\n",
    "df_electricity = pd.read_csv(\"../data/Elec-generated-by-fuel.csv\")"
   ]
  },
  {
   "cell_type": "code",
   "execution_count": 34,
   "id": "2a1bbfb1",
   "metadata": {},
   "outputs": [],
   "source": [
    "df_electricity.rename(columns={\"Electricity generated by fuel type; ktoe\":\"Year\"}, inplace=True)"
   ]
  },
  {
   "cell_type": "code",
   "execution_count": 35,
   "id": "9368b88f",
   "metadata": {},
   "outputs": [],
   "source": [
    "# list of non-renewables to sum up\n",
    "list_non_renewables = ['Gas', 'Coal', 'Peat', 'Oil', 'Wastes Non-Renewable', 'Net Positive Electricity Imports']\n",
    "\n",
    "# list of all to sum up, except year\n",
    "list_all = df_electricity.columns.drop('Year')\n",
    "\n",
    "# create new column for all non-renewable, and all types\n",
    "df_electricity['Non-renewable sum (ktoe)'] = df_electricity[list_non_renewables].sum(axis=1) \n",
    "df_electricity['Sum energy sources (ktoe)'] = df_electricity[list_all].sum(axis=1)"
   ]
  },
  {
   "cell_type": "code",
   "execution_count": 36,
   "id": "9a9a5b16",
   "metadata": {
    "scrolled": true
   },
   "outputs": [],
   "source": [
    "# write this to csv\n",
    "df_electricity.to_csv(\"../data/Irish_electricity_generation_sources.csv\", sep = \",\", header=True, index=False)"
   ]
  },
  {
   "cell_type": "code",
   "execution_count": 38,
   "id": "60fce492",
   "metadata": {},
   "outputs": [
    {
     "data": {
      "text/plain": [
       "Index(['Year', 'Gas', 'Coal', 'Peat', 'Oil', 'Wastes Non-Renewable',\n",
       "       'Renewables', 'Net Positive Electricity Imports',\n",
       "       'Non-renewable sum (ktoe)', 'Sum energy sources (ktoe)'],\n",
       "      dtype='object')"
      ]
     },
     "execution_count": 38,
     "metadata": {},
     "output_type": "execute_result"
    }
   ],
   "source": [
    "df_electricity.columns"
   ]
  }
 ],
 "metadata": {
  "kernelspec": {
   "display_name": "Python 3 (ipykernel)",
   "language": "python",
   "name": "python3"
  },
  "language_info": {
   "codemirror_mode": {
    "name": "ipython",
    "version": 3
   },
   "file_extension": ".py",
   "mimetype": "text/x-python",
   "name": "python",
   "nbconvert_exporter": "python",
   "pygments_lexer": "ipython3",
   "version": "3.9.13"
  }
 },
 "nbformat": 4,
 "nbformat_minor": 5
}
